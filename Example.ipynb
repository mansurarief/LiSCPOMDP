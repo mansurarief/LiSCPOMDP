{
 "cells": [
  {
   "cell_type": "code",
   "execution_count": 3,
   "metadata": {},
   "outputs": [
    {
     "ename": "SyntaxError",
     "evalue": "invalid syntax (768325392.py, line 1)",
     "output_type": "error",
     "traceback": [
      "\u001b[0;36m  Cell \u001b[0;32mIn[3], line 1\u001b[0;36m\u001b[0m\n\u001b[0;31m    using Random\u001b[0m\n\u001b[0m          ^\u001b[0m\n\u001b[0;31mSyntaxError\u001b[0m\u001b[0;31m:\u001b[0m invalid syntax\n"
     ]
    }
   ],
   "source": [
    "using Random\n",
    "using POMDPs \n",
    "using POMDPTools\n",
    "using POMDPPolicies\n",
    "using LiPOMDPs\n",
    "using MCTS\n",
    "using DiscreteValueIteration\n",
    "using POMCPOW \n",
    "using Distributions\n",
    "using Parameters\n",
    "using Plots\n",
    "using Plots.PlotMeasures\n",
    "\n",
    "rng = MersenneTwister(1)"
   ]
  },
  {
   "cell_type": "code",
   "execution_count": 1,
   "metadata": {},
   "outputs": [
    {
     "ename": "NameError",
     "evalue": "name 'initialize_lipomdp' is not defined",
     "output_type": "error",
     "traceback": [
      "\u001b[0;31m---------------------------------------------------------------------------\u001b[0m",
      "\u001b[0;31mNameError\u001b[0m                                 Traceback (most recent call last)",
      "Cell \u001b[0;32mIn[1], line 1\u001b[0m\n\u001b[0;32m----> 1\u001b[0m pomdp \u001b[38;5;241m=\u001b[39m \u001b[43minitialize_lipomdp\u001b[49m(obj_weights\u001b[38;5;241m=\u001b[39m[\u001b[38;5;241m0.25\u001b[39m, \u001b[38;5;241m0.25\u001b[39m, \u001b[38;5;241m1.0\u001b[39m, \u001b[38;5;241m1.0\u001b[39m, \u001b[38;5;241m0.25\u001b[39m]) \n\u001b[1;32m      2\u001b[0m up \u001b[38;5;241m=\u001b[39m LiBeliefUpdater(pomdp)\n\u001b[1;32m      3\u001b[0m b \u001b[38;5;241m=\u001b[39m initialize_belief(up)\n",
      "\u001b[0;31mNameError\u001b[0m: name 'initialize_lipomdp' is not defined"
     ]
    }
   ],
   "source": [
    "pomdp = initialize_lipomdp(obj_weights=[0.25, 0.25, 1.0, 1.0, 0.25]) \n",
    "up = LiBeliefUpdater(pomdp)\n",
    "b = initialize_belief(up)\n",
    "mdp = GenerativeBeliefMDP(pomdp, up)\n",
    "\n",
    "random_planner = RandPolicy(pomdp)\n",
    "strong_planner = EfficiencyPolicy(pomdp, [true, true, true, true])\n",
    "robust_planner = EfficiencyPolicyWithUncertainty(pomdp, 1., [true, true, true, true])\n",
    "eco_planner = EmissionAwarePolicy(pomdp, [true, true, true, true]);"
   ]
  },
  {
   "cell_type": "code",
   "execution_count": 37,
   "metadata": {},
   "outputs": [],
   "source": [
    "solver = POMCPOW.POMCPOWSolver(\n",
    "     tree_queries=1000, \n",
    "     estimate_value = 0, \n",
    "     k_observation=4., \n",
    "     alpha_observation=0.06, \n",
    "     max_depth=15, \n",
    "     enable_action_pw=false,\n",
    "     init_N=10  \n",
    " ) \n",
    "pomcpow_planner = solve(solver, pomdp);\n",
    "hr = HistoryRecorder(rng=rng, max_steps=pomdp.time_horizon);"
   ]
  },
  {
   "cell_type": "code",
   "execution_count": 38,
   "metadata": {},
   "outputs": [
    {
     "name": "stdout",
     "output_type": "stream",
     "text": [
      "(:deposit_dists, :t, :V_tot, :I_tot, :have_mined)\n",
      "(:deposit_dists, :t, :V_tot, :I_tot, :have_mined)\n",
      "(:deposit_dists, :t, :V_tot, :I_tot, :have_mined)\n",
      "(:deposit_dists, :t, :V_tot, :I_tot, :have_mined)\n",
      "(:deposit_dists, :t, :V_tot, :I_tot, :have_mined)\n",
      "(:deposit_dists, :t, :V_tot, :I_tot, :have_mined)\n",
      "(:deposit_dists, :t, :V_tot, :I_tot, :have_mined)\n",
      "(:deposit_dists, :t, :V_tot, :I_tot, :have_mined)\n",
      "(:deposit_dists, :t, :V_tot, :I_tot, :have_mined)\n",
      "(:deposit_dists, :t, :V_tot, :I_tot, :have_mined)\n",
      "(:deposit_dists, :t, :V_tot, :I_tot, :have_mined)\n",
      "(:deposit_dists, :t, :V_tot, :I_tot, :have_mined)\n",
      "(:deposit_dists, :t, :V_tot, :I_tot, :have_mined)\n",
      "(:deposit_dists, :t, :V_tot, :I_tot, :have_mined)\n",
      "(:deposit_dists, :t, :V_tot, :I_tot, :have_mined)\n",
      "(:deposit_dists, :t, :V_tot, :I_tot, :have_mined)\n",
      "(:deposit_dists, :t, :V_tot, :I_tot, :have_mined)\n",
      "(:deposit_dists, :t, :V_tot, :I_tot, :have_mined)\n",
      "(:deposit_dists, :t, :V_tot, :I_tot, :have_mined)\n",
      "(:deposit_dists, :t, :V_tot, :I_tot, :have_mined)\n",
      "(:deposit_dists, :t, :V_tot, :I_tot, :have_mined)\n",
      "(:deposit_dists, :t, :V_tot, :I_tot, :have_mined)\n",
      "(:deposit_dists, :t, :V_tot, :I_tot, :have_mined)\n",
      "(:deposit_dists, :t, :V_tot, :I_tot, :have_mined)\n",
      "(:deposit_dists, :t, :V_tot, :I_tot, :have_mined)\n",
      "(:deposit_dists, :t, :V_tot, :I_tot, :have_mined)\n",
      "(:deposit_dists, :t, :V_tot, :I_tot, :have_mined)\n",
      "(:deposit_dists, :t, :V_tot, :I_tot, :have_mined)\n",
      "(:deposit_dists, :t, :V_tot, :I_tot, :have_mined)\n",
      "  0.002259 seconds (10.60 k allocations: 448.484 KiB)\n"
     ]
    },
    {
     "data": {
      "text/plain": [
       "\"/home/mansur/Work/SISL/LiSCPOMDP/figs/summary_Random_policy.png\""
      ]
     },
     "metadata": {},
     "output_type": "display_data"
    }
   ],
   "source": [
    "@time hist = simulate(hr, pomdp, random_planner, up, b);\n",
    "\n",
    "p = plot_results(pomdp,  get_rewards(pomdp, hist););\n",
    "pall = plot(p.action, p.econ, p.other, layout=(3, 1), size=(1100, 800), margin=5mm);\n",
    "\n",
    "policy_name = \"Random_policy\"\n",
    "savefig(pall, \"figs/summary_$policy_name.pdf\")\n",
    "savefig(pall, \"figs/summary_$policy_name.png\")"
   ]
  },
  {
   "cell_type": "code",
   "execution_count": 39,
   "metadata": {},
   "outputs": [
    {
     "name": "stdout",
     "output_type": "stream",
     "text": [
      "  0.001272 seconds (11.74 k allocations: 672.297 KiB)\n"
     ]
    },
    {
     "data": {
      "text/plain": [
       "\"/home/mansur/Work/SISL/LiSCPOMDP/figs/summary_Strong_policy.png\""
      ]
     },
     "metadata": {},
     "output_type": "display_data"
    }
   ],
   "source": [
    "@time hist = simulate(hr, pomdp, strong_planner, up, b);\n",
    "\n",
    "p = plot_results(pomdp,  get_rewards(pomdp, hist););\n",
    "pall = plot(p.action, p.econ, p.other, layout=(3, 1), size=(1100, 800), margin=5mm);\n",
    "\n",
    "policy_name = \"Strong_policy\"\n",
    "savefig(pall, \"figs/summary_$policy_name.pdf\")\n",
    "savefig(pall, \"figs/summary_$policy_name.png\")"
   ]
  },
  {
   "cell_type": "code",
   "execution_count": 40,
   "metadata": {},
   "outputs": [
    {
     "name": "stdout",
     "output_type": "stream",
     "text": [
      "  0.001272 seconds (11.74 k allocations: 672.297 KiB)\n"
     ]
    },
    {
     "data": {
      "text/plain": [
       "\"/home/mansur/Work/SISL/LiSCPOMDP/figs/summary_Robust_policy.png\""
      ]
     },
     "metadata": {},
     "output_type": "display_data"
    }
   ],
   "source": [
    "@time hist = simulate(hr, pomdp, robust_planner, up, b);\n",
    "\n",
    "p = plot_results(pomdp,  get_rewards(pomdp, hist););\n",
    "pall = plot(p.action, p.econ, p.other, layout=(3, 1), size=(1100, 800), margin=5mm);\n",
    "\n",
    "policy_name = \"Robust_policy\"\n",
    "savefig(pall, \"figs/summary_$policy_name.pdf\")\n",
    "savefig(pall, \"figs/summary_$policy_name.png\")\n"
   ]
  },
  {
   "cell_type": "code",
   "execution_count": 41,
   "metadata": {},
   "outputs": [
    {
     "name": "stdout",
     "output_type": "stream",
     "text": [
      "  6.685975 seconds (48.76 M allocations: 3.777 GiB, 14.32% gc time)\n"
     ]
    },
    {
     "data": {
      "text/plain": [
       "\"/home/mansur/Work/SISL/LiSCPOMDP/figs/summary_POMCPOW_policy.png\""
      ]
     },
     "metadata": {},
     "output_type": "display_data"
    }
   ],
   "source": [
    "@time hist = simulate(hr, pomdp, pomcpow_planner, up, b);\n",
    "\n",
    "p = plot_results(pomdp,  get_rewards(pomdp, hist););\n",
    "pall = plot(p.action, p.econ, p.other, layout=(3, 1), size=(1100, 800), margin=5mm);\n",
    "\n",
    "policy_name = \"POMCPOW_policy\"\n",
    "savefig(pall, \"figs/summary_$policy_name.pdf\")\n",
    "savefig(pall, \"figs/summary_$policy_name.png\")\n"
   ]
  }
 ],
 "metadata": {
  "kernelspec": {
   "display_name": "Python 3",
   "language": "python",
   "name": "python3"
  },
  "language_info": {
   "codemirror_mode": {
    "name": "ipython",
    "version": 3
   },
   "file_extension": ".py",
   "mimetype": "text/x-python",
   "name": "python",
   "nbconvert_exporter": "python",
   "pygments_lexer": "ipython3",
   "version": "3.10.2"
  }
 },
 "nbformat": 4,
 "nbformat_minor": 2
}
